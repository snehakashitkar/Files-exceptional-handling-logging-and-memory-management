{
  "nbformat": 4,
  "nbformat_minor": 0,
  "metadata": {
    "colab": {
      "provenance": []
    },
    "kernelspec": {
      "name": "python3",
      "display_name": "Python 3"
    },
    "language_info": {
      "name": "python"
    }
  },
  "cells": [
    {
      "cell_type": "markdown",
      "source": [
        "#Files, exceptional handling,logging and memory management\n",
        "\n",
        "Assignment Questions\n",
        "\n",
        "1.What is the difference between interpreted and compiled language.?\n",
        " - Interpreted Languages: Code is executed line by line by an interpreter at runtime. They are generally slower but allow for platform independence and easier debugging. Examples: Python, JavaScript.\n",
        "\n",
        "Compiled Languages: Code is translated into machine code by a compiler before execution. They are faster at runtime but require recompilation for changes. Examples: C, C++.\n",
        "\n",
        "\n",
        "2.What is exception handling in Python?\n",
        "  - Exception handling in Python refers to the process of managing errors that occur during the execution of a program, preventing the program from crashing unexpectedly. It is implemented using the following keywords:\n",
        "\n",
        "try: Contains code that might raise an exception.\n",
        "except: Handles the exception if it occurs.\n",
        "else: Executes code if no exception occurs.\n",
        "finally: Executes code regardless of whether an exception occurred or not.\n",
        "\n",
        "\n",
        "3.What is the purpose of the finally block in exception handling?\n",
        "  - he finally block in Python exception handling is used to execute code that must run regardless of whether an exception occurred or not. Its primary purpose is to perform cleanup actions, such as closing files, releasing resources, or resetting states.\n",
        "The finally block always executes, even if an exception is raised or a return statement is encountered in the try or except blocks.\n",
        "It ensures proper resource management and avoids leaving tasks incomplete.\n",
        "\n",
        "4.What is logging in Python?\n",
        "  - Logging in Python is a way to record events and errors during program execution using the built-in logging module. It helps in debugging and tracking issues by providing different log levels:\n",
        "\n",
        "DEBUG: Detailed information.\n",
        "INFO: General updates.\n",
        "WARNING: Potential problems.\n",
        "ERROR: Serious issues.\n",
        "CRITICAL: Severe errors.\n",
        "\n",
        "\n",
        "5.What is the significance of the __del__ method in Python?\n",
        "  - The __del__ method in Python is a special method, also known as a destructor, that is called when an object is about to be destroyed. Its primary purpose is to clean up resources, such as closing files or releasing network connections, before the object is garbage-collected It is automatically called when the object is deleted or goes out of scope.\n",
        "\n",
        "\n",
        "6.What is the difference between import and from ... import in Python?\n",
        "  - The difference between import and from ... import in Python is:\n",
        "\n",
        "import: Imports the entire module. You need to use the module name as a prefix to access its attributes or functions.\n",
        "Example: Access with module.function.\n",
        "\n",
        "from ... import: Imports specific attributes or functions directly from a module. You can use them without the module prefix.\n",
        "Example: Access directly as function.\n",
        "\n",
        "\n",
        "7.How can you handle multiple exceptions in Python?\n",
        "  - In Python, you can handle multiple exceptions by:\n",
        "\n",
        "Using multiple except blocks: Catch each exception type with a separate except block.\n",
        "Using a single except block with a tuple: Handle multiple exceptions together by listing them in a tuple.\n",
        "Example (Conceptual):\n",
        "Separate handling: Use different except blocks for different actions.\n",
        "Grouped handling: Use a tuple for exceptions that need the same response.\n",
        "\n",
        "\n",
        "8.What is the purpose of the with statement when handling files in Python\n",
        " - The with statement in Python is used for resource management, particularly when handling files. It ensures that resources (like files) are properly managed by automatically closing the file when the block of code inside the with statement is finished, even if an error occurs.\n",
        "\n",
        "Key Benefits:\n",
        "Automatic cleanup: The file is automatically closed after the block execution.\n",
        "Simplifies code: No need to manually call file.close().\n",
        "\n",
        "\n",
        "9.What is the difference between multithreading and multiprocessing?\n",
        " - Multithreading and multiprocessing are both techniques for achieving concurrent execution in Python, but they differ in how they handle tasks:\n",
        "\n",
        "Multithreading:\n",
        "\n",
        "Uses multiple threads within a single process.\n",
        "Threads share memory space, making it easier to share data, but they can suffer from issues like race conditions.\n",
        "Best for I/O-bound tasks (e.g., file operations, network requests).\n",
        "Multiprocessing:\n",
        "\n",
        "Uses multiple processes, each with its own memory space.\n",
        "Better suited for CPU-bound tasks (e.g., heavy computations), as it bypasses Python's Global Interpreter Lock (GIL).\n",
        "\n",
        "\n",
        "\n",
        "10.What are the advantages of using logging in a program?\n",
        "  - 1.Better Debugging: Helps track the flow of the program, identify issues, and debug errors by providing detailed log messages.\n",
        "  2.Persistent Records: Logs can be saved to files, making it easy to review past executions, especially for debugging after the program has run.\n",
        "  3.Severity Levels: Different log levels (e.g., DEBUG, INFO, WARNING, ERROR, CRITICAL) allow for categorizing the importance of messages.\n",
        "  4.Improved Monitoring: Helps monitor the health of a system in production, providing insights into runtime behavior and performance.\n",
        "\n",
        "11.What is memory management in Python?\n",
        "  - Memory management in Python refers to the process of efficiently handling memory allocation and deallocation for objects during the execution of a program. Python uses several techniques to manage memory automatically:\n",
        "\n",
        "Automatic Garbage Collection: Python uses a garbage collector (GC) to automatically reclaim memory by removing objects that are no longer in use (i.e., objects with no references).\n",
        "\n",
        "Reference Counting: Python keeps track of the number of references to each object. When the reference count drops to zero, the object is deallocated.\n",
        "\n",
        "\n",
        "12.What are the basic steps involved in exception handling in Python?\n",
        "  - try block: Write the code that may raise an exception inside the try block. This is where you anticipate an error might occur.\n",
        "\n",
        "except block: Catch specific exceptions or all exceptions that occur in the try block. You can handle the exception by providing an alternative action or a meaningful error message.\n",
        "\n",
        "else block (optional): If no exception is raised in the try block, the code in the else block is executed. This is optional and runs only when no errors occur.\n",
        "\n",
        "\n",
        "\n",
        "13.Why is memory management important in Python.\n",
        "  - Efficient Resource Use: Proper memory management ensures that the program uses system resources efficiently, preventing excessive memory usage and avoiding memory leaks.\n",
        "\n",
        "Performance: Optimizing memory usage can improve the performance of a Python program by minimizing the overhead associated with memory allocation and deallocation.\n",
        "\n",
        "Automatic Garbage Collection: Python's garbage collection system automatically reclaims memory by identifying objects that are no longer in use, reducing the risk of memory leaks. However, managing memory properly ensures that the garbage collector can function effectively.\n",
        "\n",
        "\n",
        "14.What is the role of try and except in exception handling?\n",
        "  - In exception handling:\n",
        "\n",
        "try: Defines a block of code that may raise an exception. It attempts to execute the code inside it.\n",
        "except: Catches and handles exceptions that occur in the try block, allowing the program to continue running without crashing.\n",
        "\n",
        "\n",
        "15.How does Python's garbage collection system work?\n",
        "  - Reference Counting:\n",
        "\n",
        "Every object in Python has a reference count that tracks how many references point to the object.\n",
        "When the reference count drops to zero (i.e., no references to the object), the memory is freed immediately.\n",
        "Cycle Detection:\n",
        "\n",
        "Python also uses a cyclic garbage collector to handle cases where objects reference each other in a cycle (e.g., two objects referencing each other but not used elsewhere).\n",
        "The garbage collector periodically looks for circular references and frees the memory used by such objects.\n",
        "\n",
        "16.What is the purpose of the else block in exception handling?\n",
        "  - Reference Counting: Each object in Python has a reference count. When the count drops to zero (no references to the object), the object is immediately deallocated.\n",
        "\n",
        "Garbage Collector (GC): Python also uses a garbage collector to handle cyclic references (e.g., objects referring to each other). The GC runs periodically to find and clean up these cycles.\n",
        "\n",
        "\n",
        "17.What are the common logging levels in Python?\n",
        "  - DEBUG: Detailed information, used for debugging and diagnosing problems. This is the lowest level.\n",
        "  - INFO: General information about the program's execution, useful for tracking the progress.\n",
        "  - WARNING: Indicates a potential problem or unexpected situation, but the program can still run.\n",
        "  - ERROR: A more serious issue that has caused a failure in a part of the program.\n",
        "  - CRITICAL: A very severe error, typically causing the program to stop or behave unpredictably.\n",
        "\n",
        "\n",
        "18.What is the difference between os.fork() and multiprocessing in Python?\n",
        "  - os.fork():\n",
        "\n",
        "Creates a new child process by duplicating the current process (only works on Unix-like systems).\n",
        "\n",
        " - multiprocessing:\n",
        "\n",
        "Provides a higher-level interface for creating multiple processes, including handling separate memory spaces, inter-process communication, and process management.\n",
        "\n",
        "19.What is the importance of closing a file in Python?\n",
        "  - Resource Management: Closing a file releases the system resources (like file handles) associated with it, ensuring efficient use of memory and preventing resource leakage.\n",
        "\n",
        "Data Integrity: When you close a file, it ensures that any changes or data written to the file are properly saved and flushed to disk, preventing data loss.\n",
        "\n",
        "Preventing Errors: Leaving files open can lead to errors or unexpected behavior, especially if too many files are open at once.\n",
        "\n",
        "\n",
        "20.What is the difference between file.read() and file.readline() in Python?\n",
        "  - file.read():\n",
        "\n",
        "Reads the entire content of the file at once.\n",
        "Returns the data as a single string (including newlines).\n",
        "Useful when you want to load the whole file into memory.\n",
        "file.readline():\n",
        "\n",
        "Reads one line at a time from the file.\n",
        "Returns a string containing a single line (including the newline character).\n",
        "Useful for processing files line-by-line without loading the entire file into memory.\n",
        "\n",
        "\n",
        "21.What is the logging module in Python used for?\n",
        "  - Debugging: Logs provide insights into the program's flow and help identify bugs or unexpected behavior.\n",
        "Error Tracking: Logs capture errors and exceptions, making it easier to track and fix issues.\n",
        "Monitoring: Logs can be used to monitor long-running applications or systems in production to ensure they are running smoothly.\n",
        "\n",
        "\n",
        "22.What is the os module in Python used for in file handling?\n",
        "  - File and Directory Operations: Functions like os.rename(), os.remove(), os.mkdir(), and os.rmdir() allow you to create, rename, and delete files and directories.\n",
        "Path Manipulations: Functions like os.path.join(), os.path.exists(), and os.path.isfile() help manage and manipulate file paths.\n",
        "File Permissions: os.chmod() can be used to change file permissions.\n",
        "\n",
        "\n",
        "23.What are the challenges associated with memory management in Python?\n",
        "  - Garbage Collection Overhead: Python’s garbage collector uses reference counting and cyclic garbage collection, which can introduce overhead, especially when handling large or complex objects, potentially impacting performance.\n",
        "\n",
        "Memory Leaks: Even though Python has automatic garbage collection, memory leaks can still occur, particularly when objects have circular references that the garbage collector doesn't catch, leading to unused memory being retained.\n",
        "\n",
        "\n",
        "24.How do you raise an exception manually in Python?\n",
        "  - To raise an exception manually in Python, you use the raise keyword followed by an exception type (and optionally an error message). This allows you to trigger an exception intentionally, either with a specific error or a custom one.\n",
        "\n",
        "Basic Syntax:\n",
        "raise ExceptionType(\"Error message\")\n",
        "\n",
        "\n",
        "25.Why is it important to use multithreading in certain applications?\n",
        "  - Improved Efficiency: Enables parallel execution of multiple tasks within a single process, optimizing CPU and I/O operations.\n",
        "Better Resource Utilization: Efficiently utilizes available CPU cores and keeps the application responsive by handling multiple operations concurrently.\n",
        "Faster Performance: Reduces wait times by executing non-blocking tasks simultaneously (e.g., handling multiple user requests in web applications).\n",
        "\n",
        "\n"
      ],
      "metadata": {
        "id": "VQEyMfwAWw9a"
      }
    },
    {
      "cell_type": "code",
      "source": [
        "#Practical Questions\n",
        "\n",
        "#1.How can you open a file for writing in Python and write a string to it?\n",
        "\n",
        "\n",
        "with open('filename.txt', 'w') as file:\n",
        "\n",
        "    file.write(\"Hello, this is a string written to the file.\")\n"
      ],
      "metadata": {
        "id": "kDbuR-NceZjt"
      },
      "execution_count": 2,
      "outputs": []
    },
    {
      "cell_type": "code",
      "source": [
        "#2.Write a Python program to read the contents of a file and print each line\n",
        "\n",
        "\n",
        "with open('filename.txt', 'r') as file:\n",
        "\n",
        "    for line in file:\n",
        "        print(line, end='')\n"
      ],
      "metadata": {
        "colab": {
          "base_uri": "https://localhost:8080/"
        },
        "id": "VVKrT1hKfaCr",
        "outputId": "1a47fc11-0a9e-478d-8f74-90259f220755"
      },
      "execution_count": 3,
      "outputs": [
        {
          "output_type": "stream",
          "name": "stdout",
          "text": [
            "Hello, this is a string written to the file."
          ]
        }
      ]
    },
    {
      "cell_type": "code",
      "source": [
        "#3.How would you handle a case where the file doesn't exist while trying to open it for reading.\n",
        "\n",
        "try:\n",
        "\n",
        "    with open('filename.txt', 'r') as file:\n",
        "\n",
        "        for line in file:\n",
        "            print(line, end='')\n",
        "except FileNotFoundError:\n",
        "    print(\"Error: The file does not exist.\")\n"
      ],
      "metadata": {
        "colab": {
          "base_uri": "https://localhost:8080/"
        },
        "id": "ED8f8XCMfzrf",
        "outputId": "efc92f62-9c1d-4fba-cc47-9dae3c5d907d"
      },
      "execution_count": 4,
      "outputs": [
        {
          "output_type": "stream",
          "name": "stdout",
          "text": [
            "Hello, this is a string written to the file."
          ]
        }
      ]
    },
    {
      "cell_type": "code",
      "source": [
        "#4.Write a Python script that reads from one file and writes its content to another file\n",
        "\n",
        "import os\n",
        "\n",
        "if os.path.exists('source_file.txt'):\n",
        "\n",
        "    with open('source_file.txt', 'r') as source_file, open('destination_file.txt', 'w') as destination_file:\n",
        "\n",
        "        content = source_file.read()\n",
        "        destination_file.write(content)\n",
        "\n",
        "    print(\"File content copied successfully.\")\n",
        "else:\n",
        "    print(\"Error: The source file 'source_file.txt' does not exist.\")\n"
      ],
      "metadata": {
        "colab": {
          "base_uri": "https://localhost:8080/"
        },
        "id": "Dmffu5BbgUfq",
        "outputId": "919911f5-a7bc-4f5f-a1ba-5fdb9c3ad482"
      },
      "execution_count": 9,
      "outputs": [
        {
          "output_type": "stream",
          "name": "stdout",
          "text": [
            "Error: The source file 'source_file.txt' does not exist.\n"
          ]
        }
      ]
    },
    {
      "cell_type": "code",
      "source": [
        "#5.How would you catch and handle division by zero error in Python\n",
        "\n",
        "try:\n",
        "\n",
        "    result = 10 / 0\n",
        "except ZeroDivisionError:\n",
        "    print(\"Error: Division by zero is not allowed.\")\n",
        "else:\n",
        "    print(\"Result:\", result)\n"
      ],
      "metadata": {
        "colab": {
          "base_uri": "https://localhost:8080/"
        },
        "id": "Varm4ScBhDQw",
        "outputId": "db2df57d-8d5a-4953-a22d-a6203a9ee41c"
      },
      "execution_count": 10,
      "outputs": [
        {
          "output_type": "stream",
          "name": "stdout",
          "text": [
            "Error: Division by zero is not allowed.\n"
          ]
        }
      ]
    },
    {
      "cell_type": "code",
      "source": [
        "#6.Write a Python program that logs an error message to a log file when a division by zero exception occurs\n",
        "\n",
        "import logging\n",
        "\n",
        "logging.basicConfig(filename='error_log.txt', level=logging.ERROR, format='%(asctime)s - %(levelname)s - %(message)s')\n",
        "\n",
        "try:\n",
        "\n",
        "    result = 10 / 0\n",
        "except ZeroDivisionError as e:\n",
        "\n",
        "    logging.error(f\"Error: Division by zero occurred. Details: {e}\")\n",
        "\n",
        "print(\"Error logged to 'error_log.txt'.\")\n"
      ],
      "metadata": {
        "colab": {
          "base_uri": "https://localhost:8080/"
        },
        "id": "dQ3y_UH7graN",
        "outputId": "ee8b7c2e-d133-43db-bc09-97e303b7bdba"
      },
      "execution_count": 11,
      "outputs": [
        {
          "output_type": "stream",
          "name": "stderr",
          "text": [
            "ERROR:root:Error: Division by zero occurred. Details: division by zero\n"
          ]
        },
        {
          "output_type": "stream",
          "name": "stdout",
          "text": [
            "Error logged to 'error_log.txt'.\n"
          ]
        }
      ]
    },
    {
      "cell_type": "code",
      "source": [
        "#7. How do you log information at different levels (INFO, ERROR, WARNING) in Python using the logging module\n",
        "\n",
        "import logging\n",
        "\n",
        "\n",
        "logging.basicConfig(filename='app_log.txt', level=logging.DEBUG, format='%(asctime)s - %(levelname)s - %(message)s')\n",
        "\n",
        "\n",
        "logging.info(\"This is an info message.\")\n",
        "logging.warning(\"This is a warning message.\")\n",
        "logging.error(\"This is an error message.\")\n"
      ],
      "metadata": {
        "colab": {
          "base_uri": "https://localhost:8080/"
        },
        "id": "0Ooz5GB2hXw9",
        "outputId": "a913553b-7d99-4628-bb89-589c9a1ff2e0"
      },
      "execution_count": 12,
      "outputs": [
        {
          "output_type": "stream",
          "name": "stderr",
          "text": [
            "WARNING:root:This is a warning message.\n",
            "ERROR:root:This is an error message.\n"
          ]
        }
      ]
    },
    {
      "cell_type": "code",
      "source": [
        "#8.F Write a program to handle a file opening error using exception handling\n",
        "\n",
        "try:\n",
        "\n",
        "    with open('non_existent_file.txt', 'r') as file:\n",
        "        content = file.read()\n",
        "    print(content)\n",
        "except FileNotFoundError:\n",
        "    print(\"Error: The file does not exist.\")\n",
        "except IOError:\n",
        "    print(\"Error: An I/O error occurred while opening the file.\")\n"
      ],
      "metadata": {
        "colab": {
          "base_uri": "https://localhost:8080/"
        },
        "id": "ApBPSPtvhvYq",
        "outputId": "806402c1-b1c3-413f-8741-83a9b006fd70"
      },
      "execution_count": 13,
      "outputs": [
        {
          "output_type": "stream",
          "name": "stdout",
          "text": [
            "Error: The file does not exist.\n"
          ]
        }
      ]
    },
    {
      "cell_type": "code",
      "source": [
        "#9. How can you read a file line by line and store its content in a list in Python.\n",
        "\n",
        "lines = []\n",
        "\n",
        "with open('filename.txt', 'r') as file:\n",
        "\n",
        "    lines = file.readlines()\n",
        "\n",
        "print(lines)\n"
      ],
      "metadata": {
        "colab": {
          "base_uri": "https://localhost:8080/"
        },
        "id": "UOEqoQhJh5HM",
        "outputId": "534fb7dd-6474-4d60-e1b3-f78f0dcc8a46"
      },
      "execution_count": 14,
      "outputs": [
        {
          "output_type": "stream",
          "name": "stdout",
          "text": [
            "['Hello, this is a string written to the file.']\n"
          ]
        }
      ]
    },
    {
      "cell_type": "code",
      "source": [
        "#10. How can you append data to an existing file in Pythom?\n",
        "\n",
        "\n",
        "with open('filename.txt', 'a') as file:\n",
        "\n",
        "    file.write(\"This is the new data that is appended.\\n\")\n",
        "\n",
        "print(\"Data appended successfully.\")\n"
      ],
      "metadata": {
        "colab": {
          "base_uri": "https://localhost:8080/"
        },
        "id": "2Cvzpgo1iJpq",
        "outputId": "f6eb3c0a-46d1-4fec-ba85-6da6e1db8595"
      },
      "execution_count": 15,
      "outputs": [
        {
          "output_type": "stream",
          "name": "stdout",
          "text": [
            "Data appended successfully.\n"
          ]
        }
      ]
    },
    {
      "cell_type": "code",
      "source": [
        "#11.Write a Python program that uses a try-except block to handle an error when attempting to access a\n",
        "#dictionary key that doesn't exist\n",
        "\n",
        "\n",
        "# Sample dictionary\n",
        "my_dict = {'name': 'Alice', 'age': 25}\n",
        "\n",
        "try:\n",
        "\n",
        "    value = my_dict['address']\n",
        "except KeyError:\n",
        "    print(\"Error: The key does not exist in the dictionary.\")\n",
        "else:\n",
        "    print(\"The value is:\", value)\n"
      ],
      "metadata": {
        "colab": {
          "base_uri": "https://localhost:8080/"
        },
        "id": "b_yX1vNfiadu",
        "outputId": "84487233-1edc-4111-a966-fa068cfa3319"
      },
      "execution_count": 16,
      "outputs": [
        {
          "output_type": "stream",
          "name": "stdout",
          "text": [
            "Error: The key does not exist in the dictionary.\n"
          ]
        }
      ]
    },
    {
      "cell_type": "code",
      "source": [
        "#12.Write a program that demonstrates using multiple except blocks to handle different types of exceptionsF\n",
        "\n",
        "\n",
        "try:\n",
        "\n",
        "    number = int(input(\"Enter a number: \"))\n",
        "\n",
        "\n",
        "    result = 10 / number\n",
        "    print(\"Result:\", result)\n",
        "\n",
        "except ValueError:\n",
        "    print(\"Error: Invalid input! Please enter a valid number.\")\n",
        "\n",
        "except ZeroDivisionError:\n",
        "    print(\"Error: Division by zero is not allowed.\")\n",
        "\n",
        "except Exception as e:\n",
        "    print(f\"An unexpected error occurred: {e}\")\n"
      ],
      "metadata": {
        "colab": {
          "base_uri": "https://localhost:8080/"
        },
        "id": "ZjpNc1ilingX",
        "outputId": "824875c3-8d3a-4e6c-9572-f6e92d64500f"
      },
      "execution_count": 17,
      "outputs": [
        {
          "output_type": "stream",
          "name": "stdout",
          "text": [
            "Enter a number: 6\n",
            "Result: 1.6666666666666667\n"
          ]
        }
      ]
    },
    {
      "cell_type": "code",
      "source": [
        "#13.how would you check if a file exists before attempting to read it in Python\n",
        "\n",
        "import os\n",
        "\n",
        "file_path = 'filename.txt'\n",
        "\n",
        "# Check if the file exists\n",
        "if os.path.exists(file_path):\n",
        "    with open(file_path, 'r') as file:\n",
        "        content = file.read()\n",
        "    print(content)\n",
        "else:\n",
        "    print(\"Error: The file does not exist.\")\n"
      ],
      "metadata": {
        "colab": {
          "base_uri": "https://localhost:8080/"
        },
        "id": "lQCoBStbix5M",
        "outputId": "0ce110e0-5941-44a9-99c7-b0e768e0a8a0"
      },
      "execution_count": 18,
      "outputs": [
        {
          "output_type": "stream",
          "name": "stdout",
          "text": [
            "Hello, this is a string written to the file.This is the new data that is appended.\n",
            "\n"
          ]
        }
      ]
    },
    {
      "cell_type": "code",
      "source": [
        "#14.Write a program that uses the logging module to log both informational and error messages\n",
        "\n",
        "import logging\n",
        "\n",
        "\n",
        "logging.basicConfig(filename='app_log.txt', level=logging.DEBUG, format='%(asctime)s - %(levelname)s - %(message)s')\n",
        "\n",
        "logging.info(\"This is an informational message.\")\n",
        "\n",
        "try:\n",
        "\n",
        "    result = 10 / 0\n",
        "except ZeroDivisionError as e:\n",
        "\n",
        "    logging.error(f\"Error: {e}\")\n",
        "\n",
        "print(\"Log messages have been written to 'app_log.txt'.\")\n"
      ],
      "metadata": {
        "colab": {
          "base_uri": "https://localhost:8080/"
        },
        "id": "ekoGgRuTi-wo",
        "outputId": "d62a445f-a74f-48f7-dc20-5af1b84b95cd"
      },
      "execution_count": 19,
      "outputs": [
        {
          "output_type": "stream",
          "name": "stderr",
          "text": [
            "ERROR:root:Error: division by zero\n"
          ]
        },
        {
          "output_type": "stream",
          "name": "stdout",
          "text": [
            "Log messages have been written to 'app_log.txt'.\n"
          ]
        }
      ]
    },
    {
      "cell_type": "code",
      "source": [
        "#15.Write a Python program that prints the content of a file and handles the case when the file is empty\n",
        "\n",
        "try:\n",
        "\n",
        "    with open('filename.txt', 'r') as file:\n",
        "        content = file.read()\n",
        "\n",
        "        if content:\n",
        "            print(\"File content:\")\n",
        "            print(content)\n",
        "        else:\n",
        "            print(\"The file is empty.\")\n",
        "except FileNotFoundError:\n",
        "    print(\"Error: The file does not exist.\")\n",
        "except IOError:\n",
        "    print(\"Error: An I/O error occurred while opening the file.\")\n"
      ],
      "metadata": {
        "colab": {
          "base_uri": "https://localhost:8080/"
        },
        "id": "lHius3tXjNK0",
        "outputId": "dac794b7-570b-474f-ddb1-56f963c8f39b"
      },
      "execution_count": 20,
      "outputs": [
        {
          "output_type": "stream",
          "name": "stdout",
          "text": [
            "File content:\n",
            "Hello, this is a string written to the file.This is the new data that is appended.\n",
            "\n"
          ]
        }
      ]
    },
    {
      "cell_type": "code",
      "source": [
        "#16.Demonstrate how to use memory profiling to check the memory usage of a small programF\n",
        "\n",
        "#pip install memory-profiler\n",
        "!pip install memory-profiler\n",
        "from memory_profiler import profile\n",
        "\n",
        "@profile\n",
        "def example_function():\n",
        "    a = [i for i in range(10000)]\n",
        "    b = [i * 2 for i in a]\n",
        "    return b\n",
        "\n",
        "if __name__ == '__main__':\n",
        "    example_function()\n"
      ],
      "metadata": {
        "colab": {
          "base_uri": "https://localhost:8080/"
        },
        "id": "SvLuam4pjYcN",
        "outputId": "836f2b5c-eaf6-40fd-82fa-5afaa5dd777a"
      },
      "execution_count": 22,
      "outputs": [
        {
          "output_type": "stream",
          "name": "stdout",
          "text": [
            "Collecting memory-profiler\n",
            "  Downloading memory_profiler-0.61.0-py3-none-any.whl.metadata (20 kB)\n",
            "Requirement already satisfied: psutil in /usr/local/lib/python3.10/dist-packages (from memory-profiler) (5.9.5)\n",
            "Downloading memory_profiler-0.61.0-py3-none-any.whl (31 kB)\n",
            "Installing collected packages: memory-profiler\n",
            "Successfully installed memory-profiler-0.61.0\n"
          ]
        },
        {
          "output_type": "stream",
          "name": "stderr",
          "text": [
            "\n",
            "PYDEV DEBUGGER WARNING:\n",
            "sys.settrace() should not be used when the debugger is being used.\n",
            "This may cause the debugger to stop working correctly.\n",
            "If this is needed, please check: \n",
            "http://pydev.blogspot.com/2007/06/why-cant-pydev-debugger-work-with.html\n",
            "to see how to restore the debug tracing back correctly.\n",
            "Call Location:\n",
            "  File \"/usr/local/lib/python3.10/dist-packages/memory_profiler.py\", line 847, in enable\n",
            "    sys.settrace(self.trace_memory_usage)\n",
            "\n",
            "\n",
            "PYDEV DEBUGGER WARNING:\n",
            "sys.settrace() should not be used when the debugger is being used.\n",
            "This may cause the debugger to stop working correctly.\n",
            "If this is needed, please check: \n",
            "http://pydev.blogspot.com/2007/06/why-cant-pydev-debugger-work-with.html\n",
            "to see how to restore the debug tracing back correctly.\n",
            "Call Location:\n",
            "  File \"/usr/local/lib/python3.10/dist-packages/memory_profiler.py\", line 850, in disable\n",
            "    sys.settrace(self._original_trace_function)\n",
            "\n"
          ]
        },
        {
          "output_type": "stream",
          "name": "stdout",
          "text": [
            "ERROR: Could not find file <ipython-input-22-2d9e0317b873>\n",
            "NOTE: %mprun can only be used on functions defined in physical files, and not in the IPython environment.\n"
          ]
        }
      ]
    },
    {
      "cell_type": "code",
      "source": [
        "#16.Demonstrate how to use memory profiling to check the memory usage of a small programF\n",
        "\n",
        "\n",
        "from memory_profiler import profile\n",
        "@profile\n",
        "def example_function():\n",
        "    a = [i for i in range(10000)]\n",
        "    b = [i * 2 for i in a]\n",
        "    return b\n",
        "\n",
        "if __name__ == '__main__':\n",
        "    example_function()"
      ],
      "metadata": {
        "colab": {
          "base_uri": "https://localhost:8080/"
        },
        "id": "sUXBkCz7j451",
        "outputId": "0b722959-d125-4473-8b27-3d27c6410f16"
      },
      "execution_count": 23,
      "outputs": [
        {
          "output_type": "stream",
          "name": "stdout",
          "text": [
            "ERROR: Could not find file <ipython-input-23-afae734e6459>\n",
            "NOTE: %mprun can only be used on functions defined in physical files, and not in the IPython environment.\n"
          ]
        }
      ]
    },
    {
      "cell_type": "code",
      "source": [
        "#17.Write a Python program to create and write a list of numbers to a file, one number per line\n",
        "\n",
        "\n",
        "numbers = [1, 2, 3, 4, 5, 6, 7, 8, 9, 10]\n",
        "\n",
        "\n",
        "with open('numbers.txt', 'w') as file:\n",
        "\n",
        "    for number in numbers:\n",
        "        file.write(f\"{number}\\n\")\n",
        "\n",
        "print(\"Numbers have been written to 'numbers.txt'.\")\n"
      ],
      "metadata": {
        "colab": {
          "base_uri": "https://localhost:8080/"
        },
        "id": "AfQlwk7nj8QJ",
        "outputId": "926f91b2-3e99-4c10-e3fd-d69ee13e838c"
      },
      "execution_count": 24,
      "outputs": [
        {
          "output_type": "stream",
          "name": "stdout",
          "text": [
            "Numbers have been written to 'numbers.txt'.\n"
          ]
        }
      ]
    },
    {
      "cell_type": "code",
      "source": [
        "#18. How would you implement a basic logging setup that logs to a file with rotation after 1MB.\n",
        "\n",
        "import logging\n",
        "from logging.handlers import RotatingFileHandler\n",
        "\n",
        "\n",
        "log_file = 'app_log.txt'\n",
        "\n",
        "\n",
        "handler = RotatingFileHandler(log_file, maxBytes=1*1024*1024, backupCount=3)\n",
        "\n",
        "\n",
        "formatter = logging.Formatter('%(asctime)s - %(levelname)s - %(message)s')\n",
        "handler.setFormatter(formatter)\n",
        "\n",
        "\n",
        "logger = logging.getLogger()\n",
        "logger.setLevel(logging.DEBUG)\n",
        "logger.addHandler(handler)\n",
        "\n",
        "\n",
        "logger.info(\"This is an info message.\")\n",
        "logger.warning(\"This is a warning message.\")\n",
        "logger.error(\"This is an error message.\")\n",
        "\n",
        "print(\"Logging to file with rotation has been set up.\")\n"
      ],
      "metadata": {
        "colab": {
          "base_uri": "https://localhost:8080/"
        },
        "id": "wHWwZoJkkKet",
        "outputId": "aeb70229-52e0-4b6d-be29-b8127a9df833"
      },
      "execution_count": 25,
      "outputs": [
        {
          "output_type": "stream",
          "name": "stderr",
          "text": [
            "INFO:root:This is an info message.\n",
            "WARNING:root:This is a warning message.\n",
            "ERROR:root:This is an error message.\n"
          ]
        },
        {
          "output_type": "stream",
          "name": "stdout",
          "text": [
            "Logging to file with rotation has been set up.\n"
          ]
        }
      ]
    },
    {
      "cell_type": "code",
      "source": [
        "#19.Write a program that handles both IndexError and KeyError using a try-except block.\n",
        "\n",
        "\n",
        "my_list = [1, 2, 3, 4]\n",
        "my_dict = {'name': 'Alice', 'age': 25}\n",
        "\n",
        "try:\n",
        "\n",
        "    print(my_list[5])\n",
        "\n",
        "    print(my_dict['address'])\n",
        "\n",
        "except IndexError:\n",
        "    print(\"Error: Index is out of range in the list.\")\n",
        "\n",
        "except KeyError:\n",
        "    print(\"Error: Key not found in the dictionary.\")\n",
        "\n"
      ],
      "metadata": {
        "colab": {
          "base_uri": "https://localhost:8080/"
        },
        "id": "IeYkQDutkY0L",
        "outputId": "25a74839-5eff-4eb3-9650-2843b273cf09"
      },
      "execution_count": 26,
      "outputs": [
        {
          "output_type": "stream",
          "name": "stdout",
          "text": [
            "Error: Index is out of range in the list.\n"
          ]
        }
      ]
    },
    {
      "cell_type": "code",
      "source": [
        "#20.How would you open a file and read its contents using a context manager in Python\n",
        "\n",
        "\n",
        "with open('filename.txt', 'r') as file:\n",
        "\n",
        "    content = file.read()\n",
        "\n",
        "\n",
        "    print(content)\n"
      ],
      "metadata": {
        "colab": {
          "base_uri": "https://localhost:8080/"
        },
        "id": "ZKENEYd-kiww",
        "outputId": "8ec78a9f-fe49-4e11-e600-6c1f11d866c8"
      },
      "execution_count": 27,
      "outputs": [
        {
          "output_type": "stream",
          "name": "stdout",
          "text": [
            "Hello, this is a string written to the file.This is the new data that is appended.\n",
            "\n"
          ]
        }
      ]
    },
    {
      "cell_type": "code",
      "source": [
        "#21.Write a Python program that reads a file and prints the number of occurrences of a specific word\n",
        "\n",
        "\n",
        "def count_word_in_file(file_name, word_to_count):\n",
        "    try:\n",
        "        with open(file_name, 'r') as file:\n",
        "\n",
        "            content = file.read()\n",
        "\n",
        "\n",
        "            word_count = content.lower().split().count(word_to_count.lower())\n",
        "\n",
        "            print(f\"The word '{word_to_count}' appears {word_count} times in the file.\")\n",
        "    except FileNotFoundError:\n",
        "        print(\"Error: The file does not exist.\")\n",
        "    except IOError:\n",
        "        print(\"Error: An I/O error occurred while reading the file.\")\n",
        "\n",
        "\n",
        "file_name = 'example.txt'\n",
        "word_to_count = 'python'\n",
        "count_word_in_file(file_name, word_to_count)\n"
      ],
      "metadata": {
        "colab": {
          "base_uri": "https://localhost:8080/"
        },
        "id": "OmiBbTpIlo04",
        "outputId": "315782af-a799-4eb3-b94a-df0b39fd0bcd"
      },
      "execution_count": 28,
      "outputs": [
        {
          "output_type": "stream",
          "name": "stdout",
          "text": [
            "Error: The file does not exist.\n"
          ]
        }
      ]
    },
    {
      "cell_type": "code",
      "source": [
        "#22.How can you check if a file is empty before attempting to read its contents\n",
        "\n",
        "import os\n",
        "\n",
        "file_path = 'example.txt'\n",
        "\n",
        "\n",
        "if os.path.exists(file_path) and os.path.getsize(file_path) > 0:\n",
        "    with open(file_path, 'r') as file:\n",
        "        content = file.read()\n",
        "    print(\"File content:\")\n",
        "    print(content)\n",
        "else:\n",
        "    print(\"The file is empty or does not exist.\")\n"
      ],
      "metadata": {
        "colab": {
          "base_uri": "https://localhost:8080/"
        },
        "id": "B60oJUQ6l1to",
        "outputId": "da8a51fc-ef10-49f0-a7e0-d37fbf73e02b"
      },
      "execution_count": 29,
      "outputs": [
        {
          "output_type": "stream",
          "name": "stdout",
          "text": [
            "The file is empty or does not exist.\n"
          ]
        }
      ]
    },
    {
      "cell_type": "code",
      "source": [
        "#23. Write a Python program that writes to a log file when an error occurs during file handling.\n",
        "\n",
        "import logging\n",
        "\n",
        "\n",
        "logging.basicConfig(filename='file_error_log.txt', level=logging.ERROR, format='%(asctime)s - %(levelname)s - %(message)s')\n",
        "\n",
        "try:\n",
        "\n",
        "    with open('non_existent_file.txt', 'r') as file:\n",
        "        content = file.read()\n",
        "except Exception as e:\n",
        "\n",
        "    logging.error(f\"Error occurred: {e}\")\n",
        "\n",
        "print(\"Error has been logged.\")\n"
      ],
      "metadata": {
        "colab": {
          "base_uri": "https://localhost:8080/"
        },
        "id": "DXJqZCAdmJ6r",
        "outputId": "8bf2bbcd-a759-4808-c982-99a6066cfa1b"
      },
      "execution_count": 30,
      "outputs": [
        {
          "output_type": "stream",
          "name": "stderr",
          "text": [
            "ERROR:root:Error occurred: [Errno 2] No such file or directory: 'non_existent_file.txt'\n"
          ]
        },
        {
          "output_type": "stream",
          "name": "stdout",
          "text": [
            "Error has been logged.\n"
          ]
        }
      ]
    }
  ]
}